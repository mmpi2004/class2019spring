{
 "cells": [
  {
   "cell_type": "code",
   "execution_count": 4,
   "metadata": {
    "scrolled": true
   },
   "outputs": [
    {
     "name": "stdout",
     "output_type": "stream",
     "text": [
      "<class 'int'>\n"
     ]
    }
   ],
   "source": [
    "a = 1; print(type(a))"
   ]
  },
  {
   "cell_type": "markdown",
   "metadata": {},
   "source": [
    "a = 1 : 1이라는 정수값을 변수 a에 지정(assign)한다.  \n",
    "type() 함수 : 인자(함수 뒤 괄호에 들어가는 것)로 들어가는 값의 자료형을 반환해주는 파이썬 내장함수  \n",
    "print() 함수 : 인자를 화면출력하는 파이썬 내장함수  \n",
    "1은 정수이므로, 1의 자료형은 integer(정수)를 의미하는 int이다."
   ]
  },
  {
   "cell_type": "code",
   "execution_count": 5,
   "metadata": {
    "scrolled": true
   },
   "outputs": [
    {
     "name": "stdout",
     "output_type": "stream",
     "text": [
      "<class 'float'>\n"
     ]
    }
   ],
   "source": [
    "a = 1; a = float(a); print(type(a))"
   ]
  },
  {
   "cell_type": "markdown",
   "metadata": {},
   "source": [
    "세미클론은 여러 줄의 코드를 하나의 줄에서 실행할 수 있도록 해준다.  \n",
    "따라서의 위의 코드는 a = 1, a = float(a), 그리고 print(type(a))라는 세 개의 코드를 앞에서부터 순차적으로 실행하게 되는 것이다.  \n",
    "먼저, 1을 a에 지정한다.  \n",
    "float() 함수는 인자의 자료형을 float(실수형)으로 변환한 값을 반환한다. a = float(a)를 실행하면, 1이라는 값을 가지고 있던 변수 a에 1.0라는 실수형으로 바뀐 새로운 값을 지정하게 된다. 즉, 변수 a는 더이상 1이 아니라 1.0이라는 값을 갖게 되는 것이다."
   ]
  },
  {
   "cell_type": "code",
   "execution_count": 6,
   "metadata": {
    "scrolled": true
   },
   "outputs": [
    {
     "name": "stdout",
     "output_type": "stream",
     "text": [
      "<class 'int'>\n"
     ]
    }
   ],
   "source": [
    "a = 1.2; a = int(a); print(type(a))"
   ]
  },
  {
   "cell_type": "markdown",
   "metadata": {},
   "source": [
    "1.2을 변수 a에 지정한 후, a의 값을 정수(int)로 변환한 값을 다시 변수에 새로 지정한다. 그리고 a의 자료형(type)을 화면출력(print)한다."
   ]
  },
  {
   "cell_type": "code",
   "execution_count": 7,
   "metadata": {
    "scrolled": true
   },
   "outputs": [
    {
     "name": "stdout",
     "output_type": "stream",
     "text": [
      "<class 'str'>\n",
      "2\n"
     ]
    }
   ],
   "source": [
    "a = '123'; print(type(a)); print(a[1])"
   ]
  },
  {
   "cell_type": "markdown",
   "metadata": {},
   "source": [
    "인용부호('' 또는 \"\")로 양끝이 묶여있는 값을 '문자열'이라고 부른다.  \n",
    "a = '123' : '123'이라는 문자열 값을 변수 a에 지정한다.  \n",
    "print(type(a)) : a의 자료형(type)을 화면출력하면 문자열(string)을 나타내는 str이 나타난다.  \n",
    "\n",
    "문자열은 시퀀스(sequence) 자료형이다. 시퀀스 자료형의 예로는 문자열, 리스트, 튜플, 딕셔너리 등이 있다. 시퀀스 자료형의 특징은 인덱싱(indexing)를 통해서 시퀀스를 이루는 원소 하나하나에 접근할 수 있다는 것이다. 인덱스는 값 또는 변수명 옆의 square bracket([])내에 정수이다. 예를 들어, 위 코드에서 a[1]은 a의 1번째 원소, 즉, 1번째 문자(character)인 2다. 여기서 주의할 점은 인용부호로 묶여진 숫자(123)은 정수형이 아니라 어디까지나 문자(character)에 불과하다는 것이다. 또한 파이썬의 인덱스는 1이 아니라 0에서부터 시작한다.  \n",
    "\n",
    "print(a[1]) : a[1]은 '2'이므로 문자열이다. 문자열은 인용부호('')로 묶여있으나, 화면출력(print)시에는 인용부호가 빠져서 출력된다."
   ]
  },
  {
   "cell_type": "code",
   "execution_count": 8,
   "metadata": {
    "scrolled": true
   },
   "outputs": [
    {
     "name": "stdout",
     "output_type": "stream",
     "text": [
      "<class 'list'>\n",
      "['1', '2', '3']\n",
      "3\n"
     ]
    }
   ],
   "source": [
    "a = '123'; a = list(a); print(type(a)); print(a); print(a[2])"
   ]
  },
  {
   "cell_type": "markdown",
   "metadata": {},
   "source": [
    "a = '123' : 문자열 '123'을 변수 a에 지정한다.  \n",
    "a = list(a) : 변수 a의 자료형을 리스트(list)로 변환하여 그 값을 a에 지정한다. 문자열을 리스트로 변환하면, 문자열내의 문자 한개마다 쪼개져 리스트의 원소 하나가 된다. 리스트는 원소들이 쉼표(,)로 구분되며, 양끝에는 꺾쇠괄호([])로 묶여있다. 이 경우, 문자열 '123'을 list() 함수를 통해 리스트로 변환하면, ['1', '2', '3']가 된다.  \n",
    "리스트도 문자열과 마찬가지로 시퀀스 자료형이다. 따라서 인덱싱을 통해 리스트의 원소에 접근할 수 있다. a[2]는 리스트의 2번째 원소이므로 '3'이다. 그것을 화면출력(print)하게 되면, 인용부호가 빠진 3이 화면출력된다. "
   ]
  },
  {
   "cell_type": "code",
   "execution_count": 9,
   "metadata": {
    "scrolled": true
   },
   "outputs": [
    {
     "name": "stdout",
     "output_type": "stream",
     "text": [
      "<class 'list'>\n",
      "1\n",
      "2\n",
      "[3, '4']\n"
     ]
    }
   ],
   "source": [
    "a = [1,'2', [3, '4']]; print(type(a)); print(a[0]); print(a[1]); print(a[2])"
   ]
  },
  {
   "cell_type": "markdown",
   "metadata": {},
   "source": [
    "리스트의 원소는 숫자, 문자열 뿐만 아니라 리스트도 될 수 있다(cf.그밖에도 다양한 자료형의 값이 리스트의 원소가 될 수 있다.). a = [1,'2', [3, '4']] 처럼 리스트 내에 리스트가 있는 경우, 이를 '중첩(nested) 리스트'라고 부른다.  \n",
    "중첩 리스트의 자료형도 앞전과 같이 리스트다.  \n",
    "리스트의 원소로 있는 리스트에 접근하기 위해서는 앞전과 동일한 방식으로 인덱싱을 사용하면 된다.  \n",
    "a[2]는 2번째 원소인 [3,'4']이다. 화면출력시 인용부호가 빠지는 문자열과 달리, 리스트는 꺾쇠부호가 그대로 출력된다."
   ]
  },
  {
   "cell_type": "code",
   "execution_count": 10,
   "metadata": {
    "scrolled": true
   },
   "outputs": [
    {
     "name": "stdout",
     "output_type": "stream",
     "text": [
      "<class 'tuple'>\n",
      "1\n",
      "2\n",
      "[3, '4']\n"
     ]
    }
   ],
   "source": [
    "a = (1,'2', [3, '4']); print(type(a)); print(a[0]); print(a[1]); print(a[2])"
   ]
  },
  {
   "cell_type": "markdown",
   "metadata": {},
   "source": [
    "소괄호()로 묶여져 있는 시퀀스 자료형을 '튜플(tuple)'이라고 부른다.  \n",
    "튜플은 리스트와 비슷하나 결정적인 차이점은 '변경불가능'하다는 것이다. ex) a[0] = 2 하면 오류가 발생한다."
   ]
  },
  {
   "cell_type": "code",
   "execution_count": 11,
   "metadata": {},
   "outputs": [
    {
     "name": "stdout",
     "output_type": "stream",
     "text": [
      "<class 'dict'>\n",
      "apple\n"
     ]
    }
   ],
   "source": [
    "a =\t{\"a\": \"apple\", \"b\": \"orange\", \"c\": 2014}\n",
    "print(type(a))\n",
    "print(a[\"a\"])"
   ]
  },
  {
   "cell_type": "markdown",
   "metadata": {},
   "source": [
    "{\"a\": \"apple\", \"b\": \"orange\", \"c\": 2014} 같은 자료형을 '사전'(dictionary)라고 한다.\n",
    "사전은 중괄호{}로 묶여있으며, 원소는 키(key):값(value)의 형태로 이루어져있다. 이때 주의할 점은 사전의 key는 반드시 변경불가능한 자료형이어야한다는 것이다. 사전 자체는 변경가능한 자료형이다.  \n",
    "\n",
    "리스트와 튜플은 원소들 간의 순서가 있어 인덱싱을 통해 원소에 접근하는 반면에,  \n",
    "사전은 원소들 간의 순서가 없어 키(key)를 통해 값(value)을 찾는다. 사전명[키] 는 그 키에 대응하는 값을 나타낸다. 이 경우 a[\"a\"]는 'apple'이다."
   ]
  },
  {
   "cell_type": "code",
   "execution_count": 12,
   "metadata": {},
   "outputs": [
    {
     "name": "stdout",
     "output_type": "stream",
     "text": [
      "<class 'list'>\n"
     ]
    },
    {
     "data": {
      "text/plain": [
       "[(1, 2, 3), (3, 8, 0)]"
      ]
     },
     "execution_count": 12,
     "metadata": {},
     "output_type": "execute_result"
    }
   ],
   "source": [
    "a=[(1,2,3), (3,8,0)]\n",
    "print(type(a))\n",
    "a"
   ]
  },
  {
   "cell_type": "markdown",
   "metadata": {},
   "source": [
    "리스트의 원소가 튜플인 경우이다. 가장 바깥쪽에 있는 기호가 대괄호[]이므로 전체 a의 자료형은 리스트다. "
   ]
  },
  {
   "cell_type": "code",
   "execution_count": 13,
   "metadata": {},
   "outputs": [
    {
     "name": "stdout",
     "output_type": "stream",
     "text": [
      "[[1 2 3]\n",
      " [3 8 0]]\n",
      "<class 'numpy.ndarray'>\n"
     ]
    }
   ],
   "source": [
    "import numpy as np\n",
    "b = np.array(a)\n",
    "print(b)\n",
    "print(type(b))"
   ]
  },
  {
   "cell_type": "markdown",
   "metadata": {},
   "source": [
    "import - 외부라이브러리를 다운받고 메모리 위에 올려놓는다.  \n",
    "라이브러리는 아나콘다 디렉토리(폴더)에 폴더의 형태로 들어가있다.  \n",
    "import numpy는 numpy라는 폴더(디렉토리)를 메모리 상으로 가져온다.  \n",
    "import numpy as np는 numpy라는 라이브러리를 np라는 명칭(호칭)으로 가져온다는 뜻이다.  \n",
    "np.array()는 numpy 라이브러리 내에 있는 array함수를 사용하겠다는 것인데, np.array() 함수는 인자의 값을 배열(array)로 변환해준다."
   ]
  },
  {
   "cell_type": "code",
   "execution_count": 14,
   "metadata": {},
   "outputs": [
    {
     "name": "stdout",
     "output_type": "stream",
     "text": [
      "[[ 1  4  9]\n",
      " [ 9 64  0]]\n"
     ]
    }
   ],
   "source": [
    "print(b*b)"
   ]
  },
  {
   "cell_type": "markdown",
   "metadata": {},
   "source": [
    "엄밀히 말하자면, 배열은 행렬과 다른 자료형이다.\n",
    "행렬의 경우, 2x3와 2x3의 행렬끼리 곱할 수 없지만, 배열은 가능하다."
   ]
  },
  {
   "cell_type": "code",
   "execution_count": 15,
   "metadata": {
    "scrolled": true
   },
   "outputs": [
    {
     "name": "stdout",
     "output_type": "stream",
     "text": [
      "[[1 2 3]\n",
      " [3 8 0]]\n",
      "<class 'numpy.matrixlib.defmatrix.matrix'>\n"
     ]
    }
   ],
   "source": [
    "c = np.matrix(b)\n",
    "print(c)\n",
    "print(type(c))"
   ]
  },
  {
   "cell_type": "markdown",
   "metadata": {},
   "source": [
    "np.matrix는 행렬로 변환해주는 함수.  \n",
    "행렬로 바꿨을때 2x3, 2x3 행렬끼리 곱해지지 않는다.  \n",
    "객체 지향: 어떤 변수는 어떤 함수들과 패키지로 묶어버리는 것.  \n",
    "객체 지향을 통해 만들어진 것을 'class'라고 함."
   ]
  },
  {
   "cell_type": "code",
   "execution_count": 16,
   "metadata": {
    "scrolled": true
   },
   "outputs": [
    {
     "ename": "ValueError",
     "evalue": "shapes (2,3) and (2,3) not aligned: 3 (dim 1) != 2 (dim 0)",
     "output_type": "error",
     "traceback": [
      "\u001b[1;31m---------------------------------------------------------------------------\u001b[0m",
      "\u001b[1;31mValueError\u001b[0m                                Traceback (most recent call last)",
      "\u001b[1;32m<ipython-input-16-e3831a8239a8>\u001b[0m in \u001b[0;36m<module>\u001b[1;34m()\u001b[0m\n\u001b[1;32m----> 1\u001b[1;33m \u001b[0mc\u001b[0m\u001b[1;33m*\u001b[0m\u001b[0mc\u001b[0m\u001b[1;33m\u001b[0m\u001b[0m\n\u001b[0m",
      "\u001b[1;32m~\\Anaconda3\\lib\\site-packages\\numpy\\matrixlib\\defmatrix.py\u001b[0m in \u001b[0;36m__mul__\u001b[1;34m(self, other)\u001b[0m\n\u001b[0;32m    307\u001b[0m         \u001b[1;32mif\u001b[0m \u001b[0misinstance\u001b[0m\u001b[1;33m(\u001b[0m\u001b[0mother\u001b[0m\u001b[1;33m,\u001b[0m \u001b[1;33m(\u001b[0m\u001b[0mN\u001b[0m\u001b[1;33m.\u001b[0m\u001b[0mndarray\u001b[0m\u001b[1;33m,\u001b[0m \u001b[0mlist\u001b[0m\u001b[1;33m,\u001b[0m \u001b[0mtuple\u001b[0m\u001b[1;33m)\u001b[0m\u001b[1;33m)\u001b[0m \u001b[1;33m:\u001b[0m\u001b[1;33m\u001b[0m\u001b[0m\n\u001b[0;32m    308\u001b[0m             \u001b[1;31m# This promotes 1-D vectors to row vectors\u001b[0m\u001b[1;33m\u001b[0m\u001b[1;33m\u001b[0m\u001b[0m\n\u001b[1;32m--> 309\u001b[1;33m             \u001b[1;32mreturn\u001b[0m \u001b[0mN\u001b[0m\u001b[1;33m.\u001b[0m\u001b[0mdot\u001b[0m\u001b[1;33m(\u001b[0m\u001b[0mself\u001b[0m\u001b[1;33m,\u001b[0m \u001b[0masmatrix\u001b[0m\u001b[1;33m(\u001b[0m\u001b[0mother\u001b[0m\u001b[1;33m)\u001b[0m\u001b[1;33m)\u001b[0m\u001b[1;33m\u001b[0m\u001b[0m\n\u001b[0m\u001b[0;32m    310\u001b[0m         \u001b[1;32mif\u001b[0m \u001b[0misscalar\u001b[0m\u001b[1;33m(\u001b[0m\u001b[0mother\u001b[0m\u001b[1;33m)\u001b[0m \u001b[1;32mor\u001b[0m \u001b[1;32mnot\u001b[0m \u001b[0mhasattr\u001b[0m\u001b[1;33m(\u001b[0m\u001b[0mother\u001b[0m\u001b[1;33m,\u001b[0m \u001b[1;34m'__rmul__'\u001b[0m\u001b[1;33m)\u001b[0m \u001b[1;33m:\u001b[0m\u001b[1;33m\u001b[0m\u001b[0m\n\u001b[0;32m    311\u001b[0m             \u001b[1;32mreturn\u001b[0m \u001b[0mN\u001b[0m\u001b[1;33m.\u001b[0m\u001b[0mdot\u001b[0m\u001b[1;33m(\u001b[0m\u001b[0mself\u001b[0m\u001b[1;33m,\u001b[0m \u001b[0mother\u001b[0m\u001b[1;33m)\u001b[0m\u001b[1;33m\u001b[0m\u001b[0m\n",
      "\u001b[1;31mValueError\u001b[0m: shapes (2,3) and (2,3) not aligned: 3 (dim 1) != 2 (dim 0)"
     ]
    }
   ],
   "source": [
    "c*c"
   ]
  },
  {
   "cell_type": "markdown",
   "metadata": {},
   "source": [
    "행렬로 바뀐 c끼리 곱하면 ValueError가 발생한다. "
   ]
  },
  {
   "cell_type": "code",
   "execution_count": 17,
   "metadata": {},
   "outputs": [
    {
     "data": {
      "text/plain": [
       "matrix([[14, 19],\n",
       "        [19, 73]])"
      ]
     },
     "execution_count": 17,
     "metadata": {},
     "output_type": "execute_result"
    }
   ],
   "source": [
    "c*c.T"
   ]
  },
  {
   "cell_type": "markdown",
   "metadata": {},
   "source": [
    "np.matrix.T는 해당 행렬의 transpose(전치행렬)을 반환해준다. 이때, T 메소드는 값을 반환할 뿐 T앞의 변수의 값을 변경하지 못한다. 예를 들어, c.T를 한다고 해서 변수 c 자체는 바뀌지 않는다는 것이다."
   ]
  }
 ],
 "metadata": {
  "kernelspec": {
   "display_name": "Python 3",
   "language": "python",
   "name": "python3"
  },
  "language_info": {
   "codemirror_mode": {
    "name": "ipython",
    "version": 3
   },
   "file_extension": ".py",
   "mimetype": "text/x-python",
   "name": "python",
   "nbconvert_exporter": "python",
   "pygments_lexer": "ipython3",
   "version": "3.6.5"
  }
 },
 "nbformat": 4,
 "nbformat_minor": 1
}
