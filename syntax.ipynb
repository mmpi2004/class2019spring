{
 "cells": [
  {
   "cell_type": "code",
   "execution_count": 1,
   "metadata": {},
   "outputs": [
    {
     "name": "stdout",
     "output_type": "stream",
     "text": [
      "1\n",
      "2\n",
      "3\n",
      "4\n"
     ]
    }
   ],
   "source": [
    "a = [1, 2, 3, 4]\n",
    "for i in a:\n",
    "    print(i)"
   ]
  },
  {
   "cell_type": "markdown",
   "metadata": {},
   "source": [
    "a의 원소들이 순서대로 i라는 변수에 들어감.\n",
    "for문의 for라인 끝에는 반드시 :를 써야함.\n",
    "for문내의 구문은 indent를 사용하여 써야함.\n",
    "<tab>을 눌러 indent를 넣어주면 그걸 기준으로 for문 내인지 구별 가능."
   ]
  },
  {
   "cell_type": "code",
   "execution_count": 5,
   "metadata": {},
   "outputs": [
    {
     "data": {
      "text/plain": [
       "range(0, 4)"
      ]
     },
     "execution_count": 5,
     "metadata": {},
     "output_type": "execute_result"
    }
   ],
   "source": [
    "range(4)"
   ]
  },
  {
   "cell_type": "markdown",
   "metadata": {},
   "source": [
    "range() 함수는 (인자가 1개일 경우) 0이상 4미만의 정수들의 리스트를 반환해준다. 이때, 반환해주는 값은 [0, 1, 2, 3]이 아니라 range(0,4)를 반환한다. 만약 리스트의 형태로 확인하고 싶다면, list(range(4))를 사용하면 된다."
   ]
  },
  {
   "cell_type": "code",
   "execution_count": 33,
   "metadata": {},
   "outputs": [
    {
     "name": "stdout",
     "output_type": "stream",
     "text": [
      "1\n",
      "2\n",
      "3\n",
      "4\n"
     ]
    }
   ],
   "source": [
    "a = [1, 2, 3, 4]\n",
    "for i in range(len(a)):\n",
    "    print(i+1)"
   ]
  },
  {
   "cell_type": "markdown",
   "metadata": {},
   "source": [
    "len(a)는 리스트 a의 길이(크기, 원소의 개수)인 4이다. 따라서 for i in range(len(a))는 for i in range(4)이므로 0이상 4미만의 정수들을 iteration할 때마다 차례로 변수 i에 대입하라는 뜻이다. 각 iteration마다 print(i+1)이므로 i의 값에 1씩 더한 값을 화면 출력한다."
   ]
  },
  {
   "cell_type": "code",
   "execution_count": 34,
   "metadata": {},
   "outputs": [
    {
     "name": "stdout",
     "output_type": "stream",
     "text": [
      "red\n",
      "green\n",
      "blue\n",
      "purple\n"
     ]
    }
   ],
   "source": [
    "a = ['red', 'green', 'blue', 'purple']\n",
    "for i in a:\n",
    "    print(i)"
   ]
  },
  {
   "cell_type": "markdown",
   "metadata": {},
   "source": [
    "a의 모든 원소를 차례로 화면 출력한다."
   ]
  },
  {
   "cell_type": "code",
   "execution_count": 36,
   "metadata": {},
   "outputs": [
    {
     "name": "stdout",
     "output_type": "stream",
     "text": [
      "red\n",
      "green\n",
      "blue\n",
      "purple\n"
     ]
    }
   ],
   "source": [
    "a = ['red', 'green', 'blue', 'purple']\n",
    "for i in range(len(a)):\n",
    "    print(a[i])"
   ]
  },
  {
   "cell_type": "markdown",
   "metadata": {},
   "source": [
    "for i in range(len(a))는 for i in range(4)이므로 0이상 4미만의 정수들을 차례로 i에 대입하라는 것이다. 좀 더 해석해보자면, 리스트 a의 원소들의 인덱스들(0, 1, 2, 3)을 차례로 a에 대입하라는 것이고, a[i]를 화면출력하면 해당 인덱스에 위치한 원소들이 차례로 출력된다."
   ]
  },
  {
   "cell_type": "code",
   "execution_count": 6,
   "metadata": {
    "scrolled": false
   },
   "outputs": [
    {
     "name": "stdout",
     "output_type": "stream",
     "text": [
      "red: 20.0%\n",
      "green: 30.0%\n",
      "blue: 10.0%\n",
      "purple: 40.0%\n"
     ]
    }
   ],
   "source": [
    "a = [\"red\", \"green\", \"blue\", \"purple\"]\n",
    "b = [0.2, 0.3, 0.1, 0.4]\n",
    "for i, a in enumerate(a):\n",
    "    print(\"{}: {}%\".format(a, b[i]*100))"
   ]
  },
  {
   "cell_type": "markdown",
   "metadata": {},
   "source": [
    "enumerate()함수는 (인덱스, 해당 원소)의 pair들로 이루어진 리스트를 반환하는 함수다. (이 함수도 range처럼 바로 리스트 형태로 반환하지 않으므로, list(enumerate(a))를 사용하면 리스트 형태로 확인할 수 있다.) 정확히 리스트라고 부를 수는 없지만, enumerate 자료형은 iterable(반복가능)하므로 for i,a in 뒤에 올 수 있다.  i에는 인덱스가. a에는 원소값이 차례로 대입된다.  \n",
    "\n",
    "format()메소드는 인자에 입력한 값이 format앞 문자열의 {}중괄호 자리를 메꾸도록 해준다."
   ]
  },
  {
   "cell_type": "code",
   "execution_count": 15,
   "metadata": {},
   "outputs": [
    {
     "name": "stdout",
     "output_type": "stream",
     "text": [
      "red: 20.0%\n",
      "green: 30.0%\n",
      "blue: 10.0%\n",
      "purple: 40.0%\n"
     ]
    }
   ],
   "source": [
    "a = [\"red\", \"green\", \"blue\", \"purple\"]\n",
    "b = [0.2, 0.3, 0.1, 0.4]\n",
    "for a_, b_ in zip(a, b):\n",
    "    print(\"{}: {}%\".format(a_, b_*100))"
   ]
  },
  {
   "cell_type": "markdown",
   "metadata": {},
   "source": [
    "zip(a,b)는 리스트 a, b의 같은 인덱스에 위치한 원소끼리 pairwise하여 하나의 패키지로 만드는 함수."
   ]
  },
  {
   "cell_type": "code",
   "execution_count": 14,
   "metadata": {},
   "outputs": [
    {
     "name": "stdout",
     "output_type": "stream",
     "text": [
      "0\n"
     ]
    }
   ],
   "source": [
    "a = 0\n",
    "if a == 0:\n",
    "    print(a)\n",
    "else:\n",
    "     print(a+1)"
   ]
  },
  {
   "cell_type": "markdown",
   "metadata": {},
   "source": [
    "수학적 equal sign은 등호(=) 두 개를 써야함. '=='\n",
    "if문도 indent로 구문내용을 구분함.\n",
    "else는 위의 if 조건문이 만족하지 않을 경우에 실행된다. 이 경우, a가 0이 아닐 때.  \n",
    "\n",
    "a가 0이면 a를 print하고, 그렇지 않으면 a에 1을 더한 값을 print하라는 뜻."
   ]
  },
  {
   "cell_type": "code",
   "execution_count": 17,
   "metadata": {},
   "outputs": [
    {
     "name": "stdout",
     "output_type": "stream",
     "text": [
      "3\n",
      "4\n",
      "6\n",
      "8\n"
     ]
    }
   ],
   "source": [
    "for i in range(1, 3):\n",
    "    for j in range(3, 5):\n",
    "        print(i*j)"
   ]
  },
  {
   "cell_type": "markdown",
   "metadata": {},
   "source": [
    "위처럼, for문 내부에 for문이 있는 경우 '중첩for문'이라고 부른다.  \n",
    "하위 for문이 모두 iterate하고 나서야 상위 for문의 다음 iteration으로 넘어갈 수 있다.  \n",
    "위 경우 (i, j)의 진행과정은\n",
    "(1, 3) (1, 4) (2, 3) (2, 4)다."
   ]
  },
  {
   "cell_type": "code",
   "execution_count": 16,
   "metadata": {},
   "outputs": [
    {
     "name": "stdout",
     "output_type": "stream",
     "text": [
      "4\n",
      "8\n"
     ]
    }
   ],
   "source": [
    "for i in range(1, 3):\n",
    "    for j in range(3, 5):\n",
    "        if j >=4:\n",
    "            print(i*j)"
   ]
  },
  {
   "cell_type": "markdown",
   "metadata": {},
   "source": [
    "하위 for문인 for j in range(3,5)를 실행하고 있을 때, j가 4이상이면 i와 j를 곱한 값을 화면 출력한다. 여기선 i,j의 조합이 (1, 4), (2, 4)일 때 화면출력을 하게 된다."
   ]
  },
  {
   "cell_type": "code",
   "execution_count": 17,
   "metadata": {},
   "outputs": [
    {
     "data": {
      "text/plain": [
       "[2, 3, 4]"
      ]
     },
     "execution_count": 17,
     "metadata": {},
     "output_type": "execute_result"
    }
   ],
   "source": [
    "a = [1, 2, 3, 4]\n",
    "b = [i for i in a if i >=2]\n",
    "b"
   ]
  },
  {
   "cell_type": "markdown",
   "metadata": {},
   "source": [
    "[i for i in a if i >=2] 처럼 [expression for expre in sequence if condition]의 형식의 리스트를 '리스트 내장(list comprehension)'이라고 부른다. 위 경우, a의 원소를 변수 i에 차례로 대입하여 i가 2 이상인 경우 리스트의 원소가 된다."
   ]
  },
  {
   "cell_type": "code",
   "execution_count": 18,
   "metadata": {},
   "outputs": [
    {
     "data": {
      "text/plain": [
       "['green', 'blue', 'purple']"
      ]
     },
     "execution_count": 18,
     "metadata": {},
     "output_type": "execute_result"
    }
   ],
   "source": [
    "a = ['red', 'green', 'blue', 'purple']\n",
    "b = [i for i in a if len(i) >=4]\n",
    "b"
   ]
  },
  {
   "cell_type": "markdown",
   "metadata": {},
   "source": [
    "a의 원소의 길이가 4 이상인 경우, 즉, 문자열의 문자 수가 4 이상인 경우 b의 원소가 된다. 4글자 이상의 원소는 'green', 'blue', 'purple'이다."
   ]
  }
 ],
 "metadata": {
  "kernelspec": {
   "display_name": "Python 3",
   "language": "python",
   "name": "python3"
  },
  "language_info": {
   "codemirror_mode": {
    "name": "ipython",
    "version": 3
   },
   "file_extension": ".py",
   "mimetype": "text/x-python",
   "name": "python",
   "nbconvert_exporter": "python",
   "pygments_lexer": "ipython3",
   "version": "3.6.5"
  }
 },
 "nbformat": 4,
 "nbformat_minor": 2
}
